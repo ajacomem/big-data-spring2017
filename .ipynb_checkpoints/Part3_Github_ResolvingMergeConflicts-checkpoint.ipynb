{
 "cells": [
  {
   "cell_type": "markdown",
   "metadata": {},
   "source": [
    "# Resolving Merge Conflicts (Command Line)\n",
    "\n",
    "***\n",
    "\n",
    "Sometimes, when working on a project, you and your colleagues will change the same line of code. This often happens unintentionally, and you end up with a conflict between two files. No need to panic, simply read the \n",
    "\n",
    "When this happens, you will see an error message similar to the following:\n",
    "\n",
    "\n",
    "\n",
    "\n",
    "\n",
    "Find the class repository here:\n",
    "\n",
    "[https://github.com/civic-data-design-lab/big-data-spring2017](https://github.com/civic-data-design-lab/big-data-spring2017)\n",
    "\n",
    "To get a copy of the files, **fork** a copy of the class repository into your own profile. **You only need to do this once.** This will give you your own version of the class repository, and it is still linked to the main class repository, meaning you can **fetch** and **pull** materials from it as needed. Let's start be making our **fork**.\n",
    "\n",
    "### A. Fork the Class Repository\n",
    "\n",
    "Create your own personal copy, or ‘fork’, of the class repository.\n"
   ]
  }
 ],
 "metadata": {
  "kernelspec": {
   "display_name": "Python 3",
   "language": "python",
   "name": "python3"
  },
  "language_info": {
   "codemirror_mode": {
    "name": "ipython",
    "version": 3
   },
   "file_extension": ".py",
   "mimetype": "text/x-python",
   "name": "python",
   "nbconvert_exporter": "python",
   "pygments_lexer": "ipython3",
   "version": "3.6.0"
  }
 },
 "nbformat": 4,
 "nbformat_minor": 2
}
